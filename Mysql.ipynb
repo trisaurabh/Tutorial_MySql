{
 "cells": [
  {
   "cell_type": "markdown",
   "metadata": {},
   "source": [
    "# Part I\n",
    "\n",
    "## MySql installation\n",
    "\n",
    "In this tutorial we will learn how to install MySql database on Mac. So, let's download MySql first.\n",
    "\n",
    "Go to the official download page of mysql, which is this:\n",
    "\n",
    "https://dev.mysql.com/downloads/mysql/\n",
    "\n",
    "And, download the community server by clicking on download. You might be asked to create a login but that's not necessary. Use the option - 'No thanks, just start my download'. Once downloaded, do the boring stuff! whatever you do install a mac application. Once MySql is installed you will get a popup which will look like this:\n",
    "\n",
    "![](img/picture.png)\n",
    "\n",
    "Save this password, you can change this password later.\n",
    "\n",
    "So far so good, we have MySql installed on the computer and we are ready to use it. So, let's use it. First you need to run MySql. To do this, go to sytem preferences and find MySql and press start. You should have something like this:\n",
    "\n",
    "![](img/picture2.png)\n",
    "\n",
    "Of course you can choose to not start it on startup.\n",
    "\n",
    "Open a terminal and move to the folder where MySql command line executables are located, most probably in \"/usr/local/mysql/bin\". Now, let's connect to MySql. Run\n",
    "\n",
    "#### sudo ./mysql -u root -p\n",
    "\n",
    "You will be first asked to type the admin password and then the password you saved. \n",
    "\n",
    "So! Did it work?\n",
    "\n",
    "Worked for me.\n",
    "\n",
    "![](img/picture3.png)\n",
    "\n",
    "Finally, you wouldn't want to type a complicated password everytime you start MySql would you! so change the password using:\n",
    "\n",
    "#### mysql> alter user 'root'@'localhost' identified by 'mynewpassword';\n",
    "\n",
    "Do we already have any databases?\n",
    "\n",
    "#### mysql> show databases;\n",
    "\n",
    "Maybe, who cares! Let's create a new database shall we!!\n",
    "\n",
    "#### mysql> create database myfirstdb;\n",
    "\n",
    "And,\n",
    "\n",
    "#### mysql> quit;\n",
    "\n",
    "to quit MySql.\n",
    "\n",
    "One last thing, run the following command on the terminal to avoid moving to mysql/bin to run mysql everytime.\n",
    "\n",
    "####  export PATH=PATH:/usr/local/mysql/bin\n",
    "\n",
    "We will learn how to connect to MySQL using python in the next part."
   ]
  },
  {
   "cell_type": "markdown",
   "metadata": {},
   "source": [
    "# Part 2\n",
    "\n",
    "## Using MySql with Python\n",
    "\n",
    "We have MySql database up and running on the computer and we know how to create databases using mysql in a terminal. This can be done using Python too. There are python libraries (called mysql connectors) that let you connect and manipulate the databases. Let's see how to do this. You need:\n",
    "\n",
    "1. Python installed on the computer (I have python 3.6.1)\n",
    "2. MySQlclient or PyMySql (install using 'pip install mysqlclient' and 'pip install PyMySQL' respectively)\n",
    "\n",
    "Note: Mysqlclient and PyMySQL both are MySQl connectors. PyMySQL is written entirely in Python while mysqlclient is 'somehow not' (I do not know the details). Apparently mysqlclient is the fastest available connector. \n",
    "\n",
    "So, let's go ahead and connect our MySQL using mysqlclient."
   ]
  },
  {
   "cell_type": "code",
   "execution_count": 9,
   "metadata": {},
   "outputs": [
    {
     "data": {
      "text/plain": [
       "(('information_schema',),\n",
       " ('myfirstdatabase',),\n",
       " ('myfirstdb',),\n",
       " ('mysql',),\n",
       " ('performance_schema',),\n",
       " ('sys',))"
      ]
     },
     "execution_count": 9,
     "metadata": {},
     "output_type": "execute_result"
    }
   ],
   "source": [
    "import MySQLdb  #this is the module that comes with mysqlclient\n",
    "\n",
    "connection = MySQLdb.connect(user='root',passwd='mynewpassword',host='localhost')\n",
    "#If this runs successfully, it means we are connected to MySQL\n",
    "\n",
    "#The MySQLdb function that allows us to manipulate MySQL is called 'cursor' and it allows us to execute MySQL commands\n",
    "mycursor = connection.cursor()\n",
    "\n",
    "#Check if there are any databases\n",
    "mycursor.execute(\"show databases\")\n",
    "mycursor.fetchall()"
   ]
  },
  {
   "cell_type": "code",
   "execution_count": 15,
   "metadata": {},
   "outputs": [
    {
     "data": {
      "text/plain": [
       "1"
      ]
     },
     "execution_count": 15,
     "metadata": {},
     "output_type": "execute_result"
    }
   ],
   "source": [
    "# Let's create a new database using the cursor\n",
    "mycursor.execute(\"create database mynewdatabase\")"
   ]
  },
  {
   "cell_type": "code",
   "execution_count": 16,
   "metadata": {},
   "outputs": [
    {
     "data": {
      "text/plain": [
       "(('information_schema',),\n",
       " ('myfirstdatabase',),\n",
       " ('myfirstdb',),\n",
       " ('mynewdatabase',),\n",
       " ('mysql',),\n",
       " ('performance_schema',),\n",
       " ('sys',))"
      ]
     },
     "execution_count": 16,
     "metadata": {},
     "output_type": "execute_result"
    }
   ],
   "source": [
    "# Was it really created?\n",
    "mycursor.execute(\"show databases\")\n",
    "mycursor.fetchall()"
   ]
  },
  {
   "cell_type": "code",
   "execution_count": 22,
   "metadata": {},
   "outputs": [
    {
     "data": {
      "text/plain": [
       "0"
      ]
     },
     "execution_count": 22,
     "metadata": {},
     "output_type": "execute_result"
    }
   ],
   "source": [
    "# Let use the new database\n",
    "mycursor.execute(\"use mynewdatabase\")"
   ]
  },
  {
   "cell_type": "code",
   "execution_count": 25,
   "metadata": {},
   "outputs": [
    {
     "data": {
      "text/plain": [
       "()"
      ]
     },
     "execution_count": 25,
     "metadata": {},
     "output_type": "execute_result"
    }
   ],
   "source": [
    "# Are there any tables in this database\n",
    "mycursor.execute(\"show tables\")\n",
    "mycursor.fetchall()"
   ]
  },
  {
   "cell_type": "code",
   "execution_count": 27,
   "metadata": {},
   "outputs": [
    {
     "data": {
      "text/plain": [
       "0"
      ]
     },
     "execution_count": 27,
     "metadata": {},
     "output_type": "execute_result"
    }
   ],
   "source": [
    "#Let's create a new table\n",
    "mycursor.execute(\"create table mytable (mycol1 VARCHAR(20))\")"
   ]
  },
  {
   "cell_type": "code",
   "execution_count": 28,
   "metadata": {},
   "outputs": [
    {
     "data": {
      "text/plain": [
       "(('mytable',),)"
      ]
     },
     "execution_count": 28,
     "metadata": {},
     "output_type": "execute_result"
    }
   ],
   "source": [
    "#Was the table created?\n",
    "mycursor.execute(\"show tables\")\n",
    "mycursor.fetchall()"
   ]
  },
  {
   "cell_type": "code",
   "execution_count": 29,
   "metadata": {
    "collapsed": true
   },
   "outputs": [],
   "source": [
    "#Close the connection to the database\n",
    "mycursor.close()"
   ]
  },
  {
   "cell_type": "code",
   "execution_count": 31,
   "metadata": {
    "collapsed": true
   },
   "outputs": [],
   "source": [
    "connection.close()"
   ]
  },
  {
   "cell_type": "markdown",
   "metadata": {},
   "source": [
    "Want more? Wait for the next tutorial!! We will show how to use databases and mysqlclient in the backend of a website built using Python webframework Flask."
   ]
  }
 ],
 "metadata": {
  "kernelspec": {
   "display_name": "Python 3",
   "language": "python",
   "name": "python3"
  },
  "language_info": {
   "codemirror_mode": {
    "name": "ipython",
    "version": 3
   },
   "file_extension": ".py",
   "mimetype": "text/x-python",
   "name": "python",
   "nbconvert_exporter": "python",
   "pygments_lexer": "ipython3",
   "version": "3.6.4"
  }
 },
 "nbformat": 4,
 "nbformat_minor": 2
}
